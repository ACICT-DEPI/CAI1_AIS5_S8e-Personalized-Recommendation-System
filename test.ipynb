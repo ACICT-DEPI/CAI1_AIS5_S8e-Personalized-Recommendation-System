{
 "cells": [
  {
   "cell_type": "code",
   "execution_count": 3,
   "metadata": {},
   "outputs": [],
   "source": [
    "import pickle\n",
    "import pandas as pd"
   ]
  },
  {
   "cell_type": "code",
   "execution_count": 4,
   "metadata": {},
   "outputs": [],
   "source": [
    "df = pd.read_csv('dataset/ratings_Electronics (1).csv',names= ['userId', 'productId', 'Rating', 'timestamp'])"
   ]
  },
  {
   "cell_type": "code",
   "execution_count": 5,
   "metadata": {},
   "outputs": [],
   "source": [
    "df['Rating'] = df['Rating'].astype(int)\n",
    "df['userId'] = df['userId'].astype('str')\n",
    "df['productId'] = df['productId'].astype('str')\n",
    "\n",
    "df = df.drop(columns=['timestamp'])"
   ]
  },
  {
   "cell_type": "code",
   "execution_count": 6,
   "metadata": {},
   "outputs": [],
   "source": [
    "filename= 'model/recommendation_model_svd.pkl'\n",
    "loaded_model= pickle.load(open(filename, 'rb'))"
   ]
  },
  {
   "cell_type": "code",
   "execution_count": 7,
   "metadata": {},
   "outputs": [
    {
     "name": "stdout",
     "output_type": "stream",
     "text": [
      "Item B0043WJRRS - Predicted Rating: 4.875959823280324\n",
      "Item B007R5YGO2 - Predicted Rating: 4.85699934395655\n",
      "Item B003FVVMS0 - Predicted Rating: 4.817682766232941\n",
      "Item B009NB8WR0 - Predicted Rating: 4.807856991150853\n",
      "Item B004LSNF04 - Predicted Rating: 4.803213529040798\n",
      "Item B000OGX5AM - Predicted Rating: 4.798708169202624\n",
      "Item B00D5Q75RC - Predicted Rating: 4.798054447564188\n",
      "Item B003XM1WE0 - Predicted Rating: 4.797397077821974\n",
      "Item B0048IW030 - Predicted Rating: 4.795635149993948\n",
      "Item B009WU5XUG - Predicted Rating: 4.789480862400228\n"
     ]
    }
   ],
   "source": [
    "# users ex. A25C2M3QF9G7OQ , A6FIAB28IS79\n",
    "\n",
    "user_id = 'A25C2M3QF9G7OQ' \n",
    "\n",
    "items = df['productId'].unique()\n",
    "\n",
    "rated_items = df[df['userId'] == user_id]['productId'].values\n",
    "unrated_items = [item for item in items if item not in rated_items]\n",
    "\n",
    "predictions = [loaded_model.predict(user_id, item) for item in unrated_items]\n",
    "\n",
    "sorted_predictions = sorted(predictions, key=lambda x: x.est, reverse=True)\n",
    "\n",
    "# Print the predicted ratings\n",
    "for prediction in sorted_predictions[:10]:\n",
    "    print(f\"Item {prediction.iid} - Predicted Rating: {prediction.est}\")"
   ]
  },
  {
   "cell_type": "markdown",
   "metadata": {},
   "source": [
    "hesitation is defeat"
   ]
  }
 ],
 "metadata": {
  "kernelspec": {
   "display_name": "Python 3",
   "language": "python",
   "name": "python3"
  },
  "language_info": {
   "codemirror_mode": {
    "name": "ipython",
    "version": 3
   },
   "file_extension": ".py",
   "mimetype": "text/x-python",
   "name": "python",
   "nbconvert_exporter": "python",
   "pygments_lexer": "ipython3",
   "version": "3.9.19"
  }
 },
 "nbformat": 4,
 "nbformat_minor": 2
}
