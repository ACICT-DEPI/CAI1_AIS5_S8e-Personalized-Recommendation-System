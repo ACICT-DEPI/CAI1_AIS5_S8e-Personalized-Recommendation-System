{
 "cells": [
  {
   "cell_type": "code",
   "execution_count": 1,
   "metadata": {},
   "outputs": [],
   "source": [
    "import pickle\n",
    "import pandas as pd"
   ]
  },
  {
   "cell_type": "code",
   "execution_count": 2,
   "metadata": {},
   "outputs": [],
   "source": [
    "df = pd.read_csv('D:/Projects/ML/Personalized Recommendation System/dataset/ratings_Electronics (1).csv',names= ['userId', 'productId', 'Rating', 'timestamp'])"
   ]
  },
  {
   "cell_type": "code",
   "execution_count": 3,
   "metadata": {},
   "outputs": [],
   "source": [
    "df['Rating'] = df['Rating'].astype(int)\n",
    "df['userId'] = df['userId'].astype('str')\n",
    "df['productId'] = df['productId'].astype('str')\n",
    "\n",
    "df = df.drop(columns=['timestamp'])"
   ]
  },
  {
   "cell_type": "code",
   "execution_count": 4,
   "metadata": {},
   "outputs": [],
   "source": [
    "filename= 'model/recommendation_model_svd.pkl'\n",
    "loaded_model= pickle.load(open(filename, 'rb'))"
   ]
  },
  {
   "cell_type": "code",
   "execution_count": 9,
   "metadata": {},
   "outputs": [
    {
     "name": "stdout",
     "output_type": "stream",
     "text": [
      "Item B0043WJRRS - Predicted Rating: 4.874813310284325\n",
      "Item B007R5YGO2 - Predicted Rating: 4.854702224231724\n",
      "Item B003FVVMS0 - Predicted Rating: 4.8231185502942635\n",
      "Item B009NB8WR0 - Predicted Rating: 4.80289962664856\n",
      "Item B000OGX5AM - Predicted Rating: 4.802638252871689\n",
      "Item B00D5Q75RC - Predicted Rating: 4.797449216580759\n",
      "Item B004LSNF04 - Predicted Rating: 4.7973104673152855\n",
      "Item B0048IW030 - Predicted Rating: 4.79324842016439\n",
      "Item B009WU5XUG - Predicted Rating: 4.790176355727978\n",
      "Item B003XM1WE0 - Predicted Rating: 4.787511448568874\n"
     ]
    }
   ],
   "source": [
    "# users ex. A25C2M3QF9G7OQ , A6FIAB28IS79\n",
    "\n",
    "user_id = 'A25C2M3QF9G7OQ' \n",
    "\n",
    "items = df['productId'].unique()\n",
    "\n",
    "rated_items = df[df['userId'] == user_id]['productId'].values\n",
    "unrated_items = [item for item in items if item not in rated_items]\n",
    "\n",
    "predictions = [loaded_model.predict(user_id, item) for item in unrated_items]\n",
    "\n",
    "sorted_predictions = sorted(predictions, key=lambda x: x.est, reverse=True)\n",
    "\n",
    "# Print the predicted ratings\n",
    "for prediction in sorted_predictions[:10]:\n",
    "    print(f\"Item {prediction.iid} - Predicted Rating: {prediction.est}\")"
   ]
  }
 ],
 "metadata": {
  "kernelspec": {
   "display_name": "Python 3",
   "language": "python",
   "name": "python3"
  },
  "language_info": {
   "codemirror_mode": {
    "name": "ipython",
    "version": 3
   },
   "file_extension": ".py",
   "mimetype": "text/x-python",
   "name": "python",
   "nbconvert_exporter": "python",
   "pygments_lexer": "ipython3",
   "version": "3.9.19"
  }
 },
 "nbformat": 4,
 "nbformat_minor": 2
}
