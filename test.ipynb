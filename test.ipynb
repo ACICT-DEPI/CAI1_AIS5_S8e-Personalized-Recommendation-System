{
 "cells": [
  {
   "cell_type": "code",
   "execution_count": 9,
   "metadata": {},
   "outputs": [],
   "source": [
    "import pickle\n",
    "import pandas as pd"
   ]
  },
  {
   "cell_type": "code",
   "execution_count": 10,
   "metadata": {},
   "outputs": [],
   "source": [
    "df = pd.read_csv('dataset/ratings_Electronics (1).csv',names= ['userId', 'productId', 'Rating', 'timestamp'])"
   ]
  },
  {
   "cell_type": "code",
   "execution_count": 11,
   "metadata": {},
   "outputs": [],
   "source": [
    "df['Rating'] = df['Rating'].astype(int)\n",
    "df['userId'] = df['userId'].astype('str')\n",
    "df['productId'] = df['productId'].astype('str')\n",
    "\n",
    "df = df.drop(columns=['timestamp'])"
   ]
  },
  {
   "cell_type": "code",
   "execution_count": 12,
   "metadata": {},
   "outputs": [],
   "source": [
    "filename= 'model/recommendation_model_svd.pkl'\n",
    "loaded_model= pickle.load(open(filename, 'rb'))"
   ]
  },
  {
   "cell_type": "code",
   "execution_count": 16,
   "metadata": {},
   "outputs": [
    {
     "name": "stdout",
     "output_type": "stream",
     "text": [
      "this user is not signed\n"
     ]
    }
   ],
   "source": [
    "# users ex. A25C2M3QF9G7OQ , A118NVHURNIM28\n",
    "\n",
    "user_id = \"A11MINHURNIM28\"\n",
    "\n",
    "if user_id not in df['userId'].values:\n",
    "    print('this user is not signed')\n",
    "else:\n",
    "    items = df['productId'].unique()\n",
    "\n",
    "    rated_items = df[df['userId'] == user_id]['productId'].values\n",
    "    unrated_items = [item for item in items if item not in rated_items]\n",
    "\n",
    "    predictions = [loaded_model.predict(user_id, item) for item in unrated_items]\n",
    "\n",
    "    sorted_predictions = sorted(predictions, key=lambda x: x.est, reverse=True)\n",
    "\n",
    "    # Print the predicted ratings\n",
    "    for prediction in sorted_predictions[:10]:\n",
    "        print(f\"Item {prediction.iid} - Predicted Rating: {prediction.est}\")"
   ]
  },
  {
   "cell_type": "markdown",
   "metadata": {},
   "source": [
    "hesitation is defeat"
   ]
  }
 ],
 "metadata": {
  "kernelspec": {
   "display_name": "Python 3",
   "language": "python",
   "name": "python3"
  },
  "language_info": {
   "codemirror_mode": {
    "name": "ipython",
    "version": 3
   },
   "file_extension": ".py",
   "mimetype": "text/x-python",
   "name": "python",
   "nbconvert_exporter": "python",
   "pygments_lexer": "ipython3",
   "version": "3.9.19"
  }
 },
 "nbformat": 4,
 "nbformat_minor": 2
}
